{
  "nbformat": 4,
  "nbformat_minor": 0,
  "metadata": {
    "colab": {
      "name": "part_of_speech.ipynb",
      "version": "0.3.2",
      "provenance": [],
      "collapsed_sections": []
    },
    "kernelspec": {
      "name": "python3",
      "display_name": "Python 3"
    }
  },
  "cells": [
    {
      "cell_type": "code",
      "metadata": {
        "id": "cqT3GFbETeo4",
        "colab_type": "code",
        "colab": {}
      },
      "source": [
        "#!pip install -U spacy"
      ],
      "execution_count": 0,
      "outputs": []
    },
    {
      "cell_type": "code",
      "metadata": {
        "id": "HTSIKKd6Tgvh",
        "colab_type": "code",
        "colab": {}
      },
      "source": [
        "#!python -m spacy download en"
      ],
      "execution_count": 0,
      "outputs": []
    },
    {
      "cell_type": "code",
      "metadata": {
        "id": "Ov2vPg4SUOcJ",
        "colab_type": "code",
        "colab": {}
      },
      "source": [
        "#!pip install docx2txt"
      ],
      "execution_count": 0,
      "outputs": []
    },
    {
      "cell_type": "code",
      "metadata": {
        "id": "6hTw12CWU0_q",
        "colab_type": "code",
        "outputId": "14aacdb9-69e9-4331-9e07-1c9183f5f09d",
        "colab": {
          "base_uri": "https://localhost:8080/",
          "height": 122
        }
      },
      "source": [
        "from google.colab import drive\n",
        "drive.mount('/gdrive')"
      ],
      "execution_count": 0,
      "outputs": [
        {
          "output_type": "stream",
          "text": [
            "Go to this URL in a browser: https://accounts.google.com/o/oauth2/auth?client_id=947318989803-6bn6qk8qdgf4n4g3pfee6491hc0brc4i.apps.googleusercontent.com&redirect_uri=urn%3Aietf%3Awg%3Aoauth%3A2.0%3Aoob&scope=email%20https%3A%2F%2Fwww.googleapis.com%2Fauth%2Fdocs.test%20https%3A%2F%2Fwww.googleapis.com%2Fauth%2Fdrive%20https%3A%2F%2Fwww.googleapis.com%2Fauth%2Fdrive.photos.readonly%20https%3A%2F%2Fwww.googleapis.com%2Fauth%2Fpeopleapi.readonly&response_type=code\n",
            "\n",
            "Enter your authorization code:\n",
            "··········\n",
            "Mounted at /gdrive\n"
          ],
          "name": "stdout"
        }
      ]
    },
    {
      "cell_type": "code",
      "metadata": {
        "id": "GsqRsrv4VHbd",
        "colab_type": "code",
        "outputId": "b6f7314a-fd95-4d1d-b097-e48076816d98",
        "colab": {
          "base_uri": "https://localhost:8080/",
          "height": 34
        }
      },
      "source": [
        "ls \"/gdrive/My Drive/GE_onco\""
      ],
      "execution_count": 0,
      "outputs": [
        {
          "output_type": "stream",
          "text": [
            "'/gdrive/My Drive/MRI.docx'\n"
          ],
          "name": "stdout"
        }
      ]
    },
    {
      "cell_type": "code",
      "metadata": {
        "id": "hPSA2DmD1d3l",
        "colab_type": "code",
        "colab": {}
      },
      "source": [
        "def mridict(sent):\n",
        "  a=[]\n",
        "  print(sent.text)\n",
        "  for token in sent:\n",
        "    if token.pos_=='PUNCT' or token.pos_==\"SPACE\":\n",
        "      continue\n",
        "    b=(token.text,token.pos_,token.is_alpha)\n",
        "    a.append(b)\n",
        "  print(a)  \n",
        "  return a"
      ],
      "execution_count": 0,
      "outputs": []
    },
    {
      "cell_type": "code",
      "metadata": {
        "id": "I8AI_ZD5u_TS",
        "colab_type": "code",
        "outputId": "494a63fe-f3ab-4205-cc19-82265ddf70ac",
        "colab": {
          "base_uri": "https://localhost:8080/",
          "height": 163
        }
      },
      "source": [
        "spacy.__version__"
      ],
      "execution_count": 0,
      "outputs": [
        {
          "output_type": "error",
          "ename": "NameError",
          "evalue": "ignored",
          "traceback": [
            "\u001b[0;31m---------------------------------------------------------------------------\u001b[0m",
            "\u001b[0;31mNameError\u001b[0m                                 Traceback (most recent call last)",
            "\u001b[0;32m<ipython-input-7-7c19ce04dead>\u001b[0m in \u001b[0;36m<module>\u001b[0;34m()\u001b[0m\n\u001b[0;32m----> 1\u001b[0;31m \u001b[0mspacy\u001b[0m\u001b[0;34m.\u001b[0m\u001b[0m__version__\u001b[0m\u001b[0;34m\u001b[0m\u001b[0;34m\u001b[0m\u001b[0m\n\u001b[0m",
            "\u001b[0;31mNameError\u001b[0m: name 'spacy' is not defined"
          ]
        }
      ]
    },
    {
      "cell_type": "code",
      "metadata": {
        "id": "cSdjtKPns7pD",
        "colab_type": "code",
        "colab": {}
      },
      "source": [
        "from spacy.lang.en import English\n",
        "\n",
        "def get_sentences(text):\n",
        "\n",
        "  nlp = English()\n",
        "  sentencizer = nlp.create_pipe(\"sentencizer\")\n",
        "  nlp.add_pipe(sentencizer)\n",
        "  doc = nlp(text)\n",
        "  return list(doc.sents)"
      ],
      "execution_count": 0,
      "outputs": []
    },
    {
      "cell_type": "code",
      "metadata": {
        "id": "4108f7IVtWdV",
        "colab_type": "code",
        "colab": {}
      },
      "source": [
        "text = docx2txt.process(r\"/gdrive/My Drive/GE_onco/MRI.docx\")\n",
        "# text = docx2txt.process(r\"/gdrive/My Drive/MRI.docx\")\n",
        "sents = get_sentences(text)"
      ],
      "execution_count": 0,
      "outputs": []
    },
    {
      "cell_type": "code",
      "metadata": {
        "id": "cxGrLXO7tfEV",
        "colab_type": "code",
        "colab": {}
      },
      "source": [
        "nlp = spacy.load(\"en_core_web_sm\")\n",
        "for sent in sents:\n",
        "  res = nlp(sent.text)\n",
        "  print(res.text)\n",
        "  print(list(res.noun_chunks))\n",
        "  print(res.sentiment)\n",
        "#   for chunk in sent.noun_chunks:\n",
        "#     print(chunk)\n",
        "  "
      ],
      "execution_count": 0,
      "outputs": []
    },
    {
      "cell_type": "code",
      "metadata": {
        "id": "w6T-yllOT_fJ",
        "colab_type": "code",
        "colab": {}
      },
      "source": [
        "import spacy\n",
        "# import docx2txt, json, collections\n",
        "text = docx2txt.process(r\"/gdrive/My Drive/GE_onco/MRI.docx\") \n",
        "nlp = spacy.load(\"en_core_web_sm\")\n",
        "doc =  nlp(text)\n",
        "dict1={}\n",
        "i=0\n",
        "for sent in doc.sents:\n",
        "  dict1[i]=mridict(sent)\n",
        "  i=i+1\n",
        "  if i > 20:\n",
        "    break\n",
        "  \n",
        "# with open('output.json','w') as json_file:\n",
        "#     json.dump(dict1,json_file)\n",
        "    \n"
      ],
      "execution_count": 0,
      "outputs": []
    },
    {
      "cell_type": "code",
      "metadata": {
        "id": "9zfyA49xsjeZ",
        "colab_type": "code",
        "colab": {}
      },
      "source": [
        ""
      ],
      "execution_count": 0,
      "outputs": []
    }
  ]
}